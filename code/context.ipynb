{
 "cells": [
  {
   "cell_type": "code",
   "execution_count": 1,
   "id": "370f21c8",
   "metadata": {},
   "outputs": [
    {
     "name": "stdout",
     "output_type": "stream",
     "text": [
      "文件处理完成！\n",
      "原始文件: '../data/iris.data.csv'\n",
      "已生成 cleaned 文件: '../data/iris.data.cleaned.csv'\n"
     ]
    }
   ],
   "source": [
    "import os\n",
    "\n",
    "# 定义输入和输出文件名\n",
    "input_filename = '../data/iris.data.csv'\n",
    "output_filename = '../data/iris.data.cleaned.csv'\n",
    "\n",
    "# 确保输入文件存在\n",
    "if not os.path.exists(input_filename):\n",
    "    print(f\"错误: 输入文件 '{input_filename}' 不存在。请确保文件与脚本在同一目录下。\")\n",
    "else:\n",
    "    # 使用 with 语句可以确保文件被正确关闭\n",
    "    with open(input_filename, 'r') as infile, open(output_filename, 'w') as outfile:\n",
    "        # 逐行读取输入文件\n",
    "        for line in infile:\n",
    "            # 1. 移除行尾可能存在的空白字符（如换行符 \\n）\n",
    "            stripped_line = line.strip()\n",
    "            \n",
    "            # 2. 检查行尾是否是逗号，如果是则移除\n",
    "            if stripped_line.endswith(','):\n",
    "                cleaned_line = stripped_line[:-1]\n",
    "            else:\n",
    "                cleaned_line = stripped_line\n",
    "            \n",
    "            # 3. 将处理干净的行写入新文件，并加上换行符\n",
    "            outfile.write(cleaned_line + '\\n')\n",
    "\n",
    "    print(f\"文件处理完成！\")\n",
    "    print(f\"原始文件: '{input_filename}'\")\n",
    "    print(f\"已生成 cleaned 文件: '{output_filename}'\")"
   ]
  }
 ],
 "metadata": {
  "kernelspec": {
   "display_name": "normal",
   "language": "python",
   "name": "python3"
  },
  "language_info": {
   "codemirror_mode": {
    "name": "ipython",
    "version": 3
   },
   "file_extension": ".py",
   "mimetype": "text/x-python",
   "name": "python",
   "nbconvert_exporter": "python",
   "pygments_lexer": "ipython3",
   "version": "3.12.8"
  }
 },
 "nbformat": 4,
 "nbformat_minor": 5
}
