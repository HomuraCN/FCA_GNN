{
 "cells": [
  {
   "cell_type": "code",
   "execution_count": 5,
   "id": "22698111",
   "metadata": {},
   "outputs": [
    {
     "name": "stdout",
     "output_type": "stream",
     "text": [
      "--- 节点特征矩阵 X ---\n",
      "tensor([[1., 1., 1.,  ..., 0., 0., 0.],\n",
      "        [0., 0., 1.,  ..., 0., 0., 0.],\n",
      "        [0., 0., 0.,  ..., 0., 0., 0.],\n",
      "        ...,\n",
      "        [0., 0., 0.,  ..., 0., 0., 1.],\n",
      "        [0., 0., 0.,  ..., 0., 1., 0.],\n",
      "        [0., 0., 0.,  ..., 0., 0., 0.]])\n",
      "--- 从文件加载的 A_plus Tensor ---\n",
      "tensor([[20., 12.,  6.,  ...,  3.,  3.,  5.],\n",
      "        [12., 19.,  6.,  ...,  4.,  3.,  7.],\n",
      "        [ 9.,  9., 13.,  ...,  3.,  3.,  5.],\n",
      "        ...,\n",
      "        [ 2.,  4.,  2.,  ..., 16.,  7., 11.],\n",
      "        [ 2.,  3.,  2.,  ...,  6., 13.,  8.],\n",
      "        [ 2.,  4.,  2.,  ...,  9.,  7., 21.]])\n",
      "\n",
      "--- PyG Data Object ---\n",
      "Data(x=[150, 126], edge_index=[2, 22500], edge_attr=[22500])\n"
     ]
    }
   ],
   "source": [
    "import torch\n",
    "import torch.nn.functional as F\n",
    "from torch_geometric.data import Data\n",
    "from torch_geometric.nn import GCNConv\n",
    "from torch_geometric.utils import dense_to_sparse\n",
    "import numpy as np # 导入 numpy\n",
    "\n",
    "# 1. 原始数据 -> 节点特征矩阵 X (保持不变)\n",
    "file_path = '../data/iris.data.cleaned.csv'\n",
    "x = np.loadtxt(file_path, delimiter=',')\n",
    "x = torch.tensor(x, dtype=torch.float)\n",
    "\n",
    "# 2. 从 Java 生成的 CSV 文件加载邻接矩阵 A+\n",
    "#    你需要将 'path/to/your/java/project/' 替换为实际路径\n",
    "#    例如: '../../homuracn/fca/FCA-main/src/main/java/data/graph/car_A_plus.csv'\n",
    "file_path = '../data/iris_A_plus.csv'\n",
    "a_plus_numpy = np.loadtxt(file_path, delimiter=',')\n",
    "\n",
    "# 将 numpy 数组转换为 torch.tensor\n",
    "A_plus = torch.tensor(a_plus_numpy, dtype=torch.float)\n",
    "\n",
    "# 3. 将稠密邻接矩阵 A+ 转换为 PyG 的稀疏格式 (保持不变)\n",
    "edge_index, edge_attr = dense_to_sparse(A_plus)\n",
    "\n",
    "# 4. 创建 PyTorch Geometric 的 Data 对象 (保持不变)\n",
    "graph_data = Data(x=x, edge_index=edge_index, edge_attr=edge_attr)\n",
    "\n",
    "# 打印并验证\n",
    "print(\"--- 节点特征矩阵 X ---\")\n",
    "print(x)\n",
    "print(\"--- 从文件加载的 A_plus Tensor ---\")\n",
    "print(A_plus)\n",
    "print(\"\\n--- PyG Data Object ---\")\n",
    "print(graph_data)\n",
    "\n",
    "# ... (后续的 GNN 模型定义和训练代码保持不变) ..."
   ]
  },
  {
   "cell_type": "code",
   "execution_count": null,
   "id": "1bd0a06d",
   "metadata": {},
   "outputs": [],
   "source": []
  }
 ],
 "metadata": {
  "kernelspec": {
   "display_name": "normal",
   "language": "python",
   "name": "python3"
  },
  "language_info": {
   "codemirror_mode": {
    "name": "ipython",
    "version": 3
   },
   "file_extension": ".py",
   "mimetype": "text/x-python",
   "name": "python",
   "nbconvert_exporter": "python",
   "pygments_lexer": "ipython3",
   "version": "3.12.8"
  }
 },
 "nbformat": 4,
 "nbformat_minor": 5
}
